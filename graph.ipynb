{
 "cells": [
  {
   "cell_type": "code",
   "execution_count": null,
   "id": "fd98b373",
   "metadata": {},
   "outputs": [],
   "source": [
    "import matplotlib.pyplot as plt # Seus dados\n",
    "\n",
    "dados = [\n",
    "    (0, 5.00, 0.00),\n",
    "    (401, 4.80, 0.20),\n",
    "    (803, 4.61, 0.39),\n",
    " mantenha esse formato e adicione seus dados do MONITOR SERIAL\n",
    "] # Separando os dados\n",
    "\n",
    "x = [item[0] for item in dados]\n",
    "y1 = [item[1] for item in dados]\n",
    "y2 = [item[2] for item in dados] # Criando o gráfico\n",
    "\n",
    "plt.figure(figsize=(10, 6))\n",
    "plt.plot(x, y1, label='Y1')\n",
    "plt.plot(x, y2, label='Y2') # Configurando rótulos e título\n",
    "plt.xlabel('X')\n",
    "plt.ylabel('Valores')\n",
    "plt.title('Gráfico de Dispersão')\n",
    "plt.legend()\n",
    "plt.grid(True)\n",
    "plt.show() # Exibindo o gráfico"
   ]
  }
 ],
 "metadata": {
  "language_info": {
   "name": "python"
  }
 },
 "nbformat": 4,
 "nbformat_minor": 5
}
